{
 "cells": [
  {
   "cell_type": "code",
   "execution_count": 1,
   "id": "09aab20b-424e-4f07-ba22-c64d19f38ab7",
   "metadata": {},
   "outputs": [],
   "source": [
    "import pandas as pd\n",
    "import numpy as np\n",
    "import matplotlib.pyplot as plt\n",
    "import plotly.express as px\n",
    "import warnings\n",
    "warnings.filterwarnings('ignore')"
   ]
  },
  {
   "cell_type": "markdown",
   "id": "1da90664-9b94-45c6-ae88-65f00abe4794",
   "metadata": {},
   "source": [
    "## 1. Data set reference link: https://www.consumerfinance.gov/data-research/consumer-complaints/#download-the-data\n",
    "## File data source: https://files.consumerfinance.gov/ccdb/complaints.csv.zip \n",
    "## Problem statement:\n",
    "## Download the data from the file data source and provide possible data insights."
   ]
  },
  {
   "cell_type": "markdown",
   "id": "cc6c6447-ce20-4624-b8a6-26ca97192292",
   "metadata": {},
   "source": [
    "## The dataset contains over 5 million values it cant be handled very easy so we are taking 2 million data for our insights"
   ]
  },
  {
   "cell_type": "code",
   "execution_count": 43,
   "id": "93bcdb87-dac4-4391-917c-715cfcf4c52f",
   "metadata": {},
   "outputs": [],
   "source": [
    "df = pd.read_csv(\"complaints.csv\", nrows=2000000)"
   ]
  },
  {
   "cell_type": "code",
   "execution_count": 4,
   "id": "a1f3e08b-5101-4d96-ae3c-61ce954425e8",
   "metadata": {},
   "outputs": [
    {
     "data": {
      "text/plain": [
       "(2000000, 18)"
      ]
     },
     "execution_count": 4,
     "metadata": {},
     "output_type": "execute_result"
    }
   ],
   "source": [
    "df.shape"
   ]
  },
  {
   "cell_type": "code",
   "execution_count": 16,
   "id": "0ac222e5-7804-484d-822d-f89520bd4b0f",
   "metadata": {},
   "outputs": [
    {
     "data": {
      "text/html": [
       "<div>\n",
       "<style scoped>\n",
       "    .dataframe tbody tr th:only-of-type {\n",
       "        vertical-align: middle;\n",
       "    }\n",
       "\n",
       "    .dataframe tbody tr th {\n",
       "        vertical-align: top;\n",
       "    }\n",
       "\n",
       "    .dataframe thead th {\n",
       "        text-align: right;\n",
       "    }\n",
       "</style>\n",
       "<table border=\"1\" class=\"dataframe\">\n",
       "  <thead>\n",
       "    <tr style=\"text-align: right;\">\n",
       "      <th></th>\n",
       "      <th>Date received</th>\n",
       "      <th>Product</th>\n",
       "      <th>Sub-product</th>\n",
       "      <th>Issue</th>\n",
       "      <th>Sub-issue</th>\n",
       "      <th>Company</th>\n",
       "      <th>State</th>\n",
       "      <th>ZIP code</th>\n",
       "      <th>Consumer consent provided?</th>\n",
       "      <th>Submitted via</th>\n",
       "      <th>Date sent to company</th>\n",
       "      <th>Company response to consumer</th>\n",
       "      <th>Timely response?</th>\n",
       "      <th>Complaint ID</th>\n",
       "    </tr>\n",
       "  </thead>\n",
       "  <tbody>\n",
       "    <tr>\n",
       "      <th>0</th>\n",
       "      <td>2024-01-23</td>\n",
       "      <td>Credit reporting or other personal consumer re...</td>\n",
       "      <td>Credit reporting</td>\n",
       "      <td>Incorrect information on your report</td>\n",
       "      <td>Information belongs to someone else</td>\n",
       "      <td>TRANSUNION INTERMEDIATE HOLDINGS, INC.</td>\n",
       "      <td>ME</td>\n",
       "      <td>04005</td>\n",
       "      <td>Consent not provided</td>\n",
       "      <td>Web</td>\n",
       "      <td>2024-01-23</td>\n",
       "      <td>Closed with non-monetary relief</td>\n",
       "      <td>Yes</td>\n",
       "      <td>8206605</td>\n",
       "    </tr>\n",
       "    <tr>\n",
       "      <th>1</th>\n",
       "      <td>2024-01-24</td>\n",
       "      <td>Credit reporting or other personal consumer re...</td>\n",
       "      <td>Credit reporting</td>\n",
       "      <td>Incorrect information on your report</td>\n",
       "      <td>Information belongs to someone else</td>\n",
       "      <td>TRANSUNION INTERMEDIATE HOLDINGS, INC.</td>\n",
       "      <td>FL</td>\n",
       "      <td>33311</td>\n",
       "      <td>Other</td>\n",
       "      <td>Web</td>\n",
       "      <td>2024-01-24</td>\n",
       "      <td>Closed with non-monetary relief</td>\n",
       "      <td>Yes</td>\n",
       "      <td>8211390</td>\n",
       "    </tr>\n",
       "    <tr>\n",
       "      <th>2</th>\n",
       "      <td>2024-01-24</td>\n",
       "      <td>Credit reporting or other personal consumer re...</td>\n",
       "      <td>Credit reporting</td>\n",
       "      <td>Improper use of your report</td>\n",
       "      <td>Credit inquiries on your report that you don't...</td>\n",
       "      <td>TRANSUNION INTERMEDIATE HOLDINGS, INC.</td>\n",
       "      <td>PA</td>\n",
       "      <td>175XX</td>\n",
       "      <td>Other</td>\n",
       "      <td>Web</td>\n",
       "      <td>2024-01-24</td>\n",
       "      <td>Closed with non-monetary relief</td>\n",
       "      <td>Yes</td>\n",
       "      <td>8211362</td>\n",
       "    </tr>\n",
       "    <tr>\n",
       "      <th>3</th>\n",
       "      <td>2024-01-23</td>\n",
       "      <td>Credit reporting or other personal consumer re...</td>\n",
       "      <td>Credit reporting</td>\n",
       "      <td>Improper use of your report</td>\n",
       "      <td>Reporting company used your report improperly</td>\n",
       "      <td>TRANSUNION INTERMEDIATE HOLDINGS, INC.</td>\n",
       "      <td>TX</td>\n",
       "      <td>79907</td>\n",
       "      <td>Consent provided</td>\n",
       "      <td>Web</td>\n",
       "      <td>2024-01-23</td>\n",
       "      <td>Closed with non-monetary relief</td>\n",
       "      <td>Yes</td>\n",
       "      <td>8210433</td>\n",
       "    </tr>\n",
       "    <tr>\n",
       "      <th>4</th>\n",
       "      <td>2024-01-23</td>\n",
       "      <td>Credit reporting or other personal consumer re...</td>\n",
       "      <td>Credit reporting</td>\n",
       "      <td>Improper use of your report</td>\n",
       "      <td>Reporting company used your report improperly</td>\n",
       "      <td>TRANSUNION INTERMEDIATE HOLDINGS, INC.</td>\n",
       "      <td>NY</td>\n",
       "      <td>10075</td>\n",
       "      <td>Consent provided</td>\n",
       "      <td>Web</td>\n",
       "      <td>2024-01-23</td>\n",
       "      <td>Closed with non-monetary relief</td>\n",
       "      <td>Yes</td>\n",
       "      <td>8209430</td>\n",
       "    </tr>\n",
       "  </tbody>\n",
       "</table>\n",
       "</div>"
      ],
      "text/plain": [
       "  Date received                                            Product  \\\n",
       "0    2024-01-23  Credit reporting or other personal consumer re...   \n",
       "1    2024-01-24  Credit reporting or other personal consumer re...   \n",
       "2    2024-01-24  Credit reporting or other personal consumer re...   \n",
       "3    2024-01-23  Credit reporting or other personal consumer re...   \n",
       "4    2024-01-23  Credit reporting or other personal consumer re...   \n",
       "\n",
       "        Sub-product                                 Issue  \\\n",
       "0  Credit reporting  Incorrect information on your report   \n",
       "1  Credit reporting  Incorrect information on your report   \n",
       "2  Credit reporting           Improper use of your report   \n",
       "3  Credit reporting           Improper use of your report   \n",
       "4  Credit reporting           Improper use of your report   \n",
       "\n",
       "                                           Sub-issue  \\\n",
       "0                Information belongs to someone else   \n",
       "1                Information belongs to someone else   \n",
       "2  Credit inquiries on your report that you don't...   \n",
       "3      Reporting company used your report improperly   \n",
       "4      Reporting company used your report improperly   \n",
       "\n",
       "                                  Company State ZIP code  \\\n",
       "0  TRANSUNION INTERMEDIATE HOLDINGS, INC.    ME    04005   \n",
       "1  TRANSUNION INTERMEDIATE HOLDINGS, INC.    FL    33311   \n",
       "2  TRANSUNION INTERMEDIATE HOLDINGS, INC.    PA    175XX   \n",
       "3  TRANSUNION INTERMEDIATE HOLDINGS, INC.    TX    79907   \n",
       "4  TRANSUNION INTERMEDIATE HOLDINGS, INC.    NY    10075   \n",
       "\n",
       "  Consumer consent provided? Submitted via Date sent to company  \\\n",
       "0       Consent not provided           Web           2024-01-23   \n",
       "1                      Other           Web           2024-01-24   \n",
       "2                      Other           Web           2024-01-24   \n",
       "3           Consent provided           Web           2024-01-23   \n",
       "4           Consent provided           Web           2024-01-23   \n",
       "\n",
       "      Company response to consumer Timely response?  Complaint ID  \n",
       "0  Closed with non-monetary relief              Yes       8206605  \n",
       "1  Closed with non-monetary relief              Yes       8211390  \n",
       "2  Closed with non-monetary relief              Yes       8211362  \n",
       "3  Closed with non-monetary relief              Yes       8210433  \n",
       "4  Closed with non-monetary relief              Yes       8209430  "
      ]
     },
     "execution_count": 16,
     "metadata": {},
     "output_type": "execute_result"
    }
   ],
   "source": [
    "df.head()"
   ]
  },
  {
   "cell_type": "code",
   "execution_count": 5,
   "id": "fbc3fc07-d0ab-4516-8e05-60dd7ad7f439",
   "metadata": {},
   "outputs": [
    {
     "data": {
      "text/plain": [
       "Date received                         0\n",
       "Product                               0\n",
       "Sub-product                       11477\n",
       "Issue                                 2\n",
       "Sub-issue                        108389\n",
       "Consumer complaint narrative    1291239\n",
       "Company public response          984689\n",
       "Company                               0\n",
       "State                             11673\n",
       "ZIP code                           6133\n",
       "Tags                            1850937\n",
       "Consumer consent provided?       358065\n",
       "Submitted via                         0\n",
       "Date sent to company                  0\n",
       "Company response to consumer         11\n",
       "Timely response?                      0\n",
       "Consumer disputed?              1959332\n",
       "Complaint ID                          0\n",
       "dtype: int64"
      ]
     },
     "execution_count": 5,
     "metadata": {},
     "output_type": "execute_result"
    }
   ],
   "source": [
    "df.isnull().sum()"
   ]
  },
  {
   "cell_type": "code",
   "execution_count": 6,
   "id": "a83f3a1d-34f8-4b1c-b655-4d9818641895",
   "metadata": {},
   "outputs": [
    {
     "data": {
      "text/plain": [
       "Date received                    0.00000\n",
       "Product                          0.00000\n",
       "Sub-product                      0.57385\n",
       "Issue                            0.00010\n",
       "Sub-issue                        5.41945\n",
       "Consumer complaint narrative    64.56195\n",
       "Company public response         49.23445\n",
       "Company                          0.00000\n",
       "State                            0.58365\n",
       "ZIP code                         0.30665\n",
       "Tags                            92.54685\n",
       "Consumer consent provided?      17.90325\n",
       "Submitted via                    0.00000\n",
       "Date sent to company             0.00000\n",
       "Company response to consumer     0.00055\n",
       "Timely response?                 0.00000\n",
       "Consumer disputed?              97.96660\n",
       "Complaint ID                     0.00000\n",
       "dtype: float64"
      ]
     },
     "execution_count": 6,
     "metadata": {},
     "output_type": "execute_result"
    }
   ],
   "source": [
    "df.isnull().sum() / len(df) * 100"
   ]
  },
  {
   "cell_type": "code",
   "execution_count": 44,
   "id": "6f8ec139-8b6f-496b-940b-82732709829c",
   "metadata": {},
   "outputs": [],
   "source": [
    "for col in list(df.columns):\n",
    "    if (df[col].isnull().sum() / len(df) * 100) >= 45:\n",
    "        df.drop(columns=col, inplace=True)"
   ]
  },
  {
   "cell_type": "code",
   "execution_count": 11,
   "id": "4577ea5a-6bf4-4326-abd0-0afa79e65c7a",
   "metadata": {},
   "outputs": [
    {
     "data": {
      "text/plain": [
       "(2000000, 14)"
      ]
     },
     "execution_count": 11,
     "metadata": {},
     "output_type": "execute_result"
    }
   ],
   "source": [
    "df.shape"
   ]
  },
  {
   "cell_type": "code",
   "execution_count": 12,
   "id": "0e5ba9a3-b3b8-4e4e-8c0d-3675a9d11bbb",
   "metadata": {},
   "outputs": [
    {
     "data": {
      "text/plain": [
       "Date received                    0.00000\n",
       "Product                          0.00000\n",
       "Sub-product                      0.57385\n",
       "Issue                            0.00010\n",
       "Sub-issue                        5.41945\n",
       "Company                          0.00000\n",
       "State                            0.58365\n",
       "ZIP code                         0.30665\n",
       "Consumer consent provided?      17.90325\n",
       "Submitted via                    0.00000\n",
       "Date sent to company             0.00000\n",
       "Company response to consumer     0.00055\n",
       "Timely response?                 0.00000\n",
       "Complaint ID                     0.00000\n",
       "dtype: float64"
      ]
     },
     "execution_count": 12,
     "metadata": {},
     "output_type": "execute_result"
    }
   ],
   "source": [
    "df.isnull().sum() / len(df) * 100"
   ]
  },
  {
   "cell_type": "code",
   "execution_count": 35,
   "id": "35ddc136-112d-4bd2-968a-04a83dd1c629",
   "metadata": {},
   "outputs": [
    {
     "data": {
      "text/plain": [
       "Date received                   object\n",
       "Product                         object\n",
       "Sub-product                     object\n",
       "Issue                           object\n",
       "Sub-issue                       object\n",
       "Company                         object\n",
       "State                           object\n",
       "ZIP code                        object\n",
       "Consumer consent provided?      object\n",
       "Submitted via                   object\n",
       "Date sent to company            object\n",
       "Company response to consumer    object\n",
       "Timely response?                object\n",
       "Complaint ID                     int64\n",
       "dtype: object"
      ]
     },
     "execution_count": 35,
     "metadata": {},
     "output_type": "execute_result"
    }
   ],
   "source": [
    "df.dtypes"
   ]
  },
  {
   "cell_type": "code",
   "execution_count": 45,
   "id": "3f33188c-ddbf-4750-bd55-db842efac4d2",
   "metadata": {
    "scrolled": true
   },
   "outputs": [],
   "source": [
    "df[['Date received', 'ZIP code', 'Date sent to company', 'Complaint ID']] = df[['Date received', 'ZIP code', 'Date sent to company', 'Complaint ID']].astype({'Date received': 'datetime64[ns]', 'Date sent to company': 'datetime64[ns]', 'Complaint ID': 'int64'})"
   ]
  },
  {
   "cell_type": "code",
   "execution_count": 46,
   "id": "384f3c11-5025-45d8-ab6d-326b83eb1f28",
   "metadata": {},
   "outputs": [
    {
     "data": {
      "text/plain": [
       "Date received                   datetime64[ns]\n",
       "Product                                 object\n",
       "Sub-product                             object\n",
       "Issue                                   object\n",
       "Sub-issue                               object\n",
       "Company                                 object\n",
       "State                                   object\n",
       "ZIP code                                object\n",
       "Consumer consent provided?              object\n",
       "Submitted via                           object\n",
       "Date sent to company            datetime64[ns]\n",
       "Company response to consumer            object\n",
       "Timely response?                        object\n",
       "Complaint ID                             int64\n",
       "dtype: object"
      ]
     },
     "execution_count": 46,
     "metadata": {},
     "output_type": "execute_result"
    }
   ],
   "source": [
    "df.dtypes"
   ]
  },
  {
   "cell_type": "code",
   "execution_count": 47,
   "id": "c794b469-5a04-4605-b67c-3981f5e08a46",
   "metadata": {},
   "outputs": [],
   "source": [
    "for col in list(df.columns):\n",
    "    if df[col].dtype in [\"int\", \"float\"]:\n",
    "        if 0 < (df[col].isnull().sum() / len(df) * 100) <= 1:\n",
    "            df[col].fillna(df[col].mean(), inplace=True)\n",
    "        else:\n",
    "            mean = df.groupby('Product')[col].mean()\n",
    "            for prod in df['Product'].unique():\n",
    "                mask = df['Product'] == prod\n",
    "                df.loc[mask, col] = df.loc[mask, col].fillna(mean[prod])\n",
    "    elif df[col].dtype == \"object\":\n",
    "        for prod in df['Product'].unique():\n",
    "                mask = df['Product'] == prod\n",
    "                df.loc[mask, col] = df.loc[mask, col].fillna(df[col].mode()[0])"
   ]
  },
  {
   "cell_type": "code",
   "execution_count": 48,
   "id": "7421a9fb-2cd3-4ae5-aa52-19fb71143f90",
   "metadata": {},
   "outputs": [
    {
     "data": {
      "text/plain": [
       "Date received                   0.0\n",
       "Product                         0.0\n",
       "Sub-product                     0.0\n",
       "Issue                           0.0\n",
       "Sub-issue                       0.0\n",
       "Company                         0.0\n",
       "State                           0.0\n",
       "ZIP code                        0.0\n",
       "Consumer consent provided?      0.0\n",
       "Submitted via                   0.0\n",
       "Date sent to company            0.0\n",
       "Company response to consumer    0.0\n",
       "Timely response?                0.0\n",
       "Complaint ID                    0.0\n",
       "dtype: float64"
      ]
     },
     "execution_count": 48,
     "metadata": {},
     "output_type": "execute_result"
    }
   ],
   "source": [
    "df.isnull().sum() / len(df) * 100"
   ]
  },
  {
   "cell_type": "code",
   "execution_count": 49,
   "id": "00db1569-dcaa-422a-853c-81c76e95e9f0",
   "metadata": {},
   "outputs": [
    {
     "name": "stdout",
     "output_type": "stream",
     "text": [
      "Date received : 4478\n",
      "Product : 20\n",
      "Sub-product : 85\n",
      "Issue : 175\n",
      "Sub-issue : 270\n",
      "Company : 5175\n",
      "State : 62\n",
      "ZIP code : 23716\n",
      "Consumer consent provided? : 4\n",
      "Submitted via : 7\n",
      "Date sent to company : 4361\n",
      "Company response to consumer : 8\n",
      "Timely response? : 2\n",
      "Complaint ID : 2000000\n"
     ]
    }
   ],
   "source": [
    "for col in df.columns:\n",
    "    print(col, ':', df[col].nunique())"
   ]
  },
  {
   "cell_type": "code",
   "execution_count": 50,
   "id": "e5b12cbf-da2a-4c18-9473-23f5a75f0638",
   "metadata": {},
   "outputs": [],
   "source": [
    "df.drop(columns=['Complaint ID'], inplace=True)"
   ]
  },
  {
   "cell_type": "markdown",
   "id": "6ee8ce06-b0ff-440d-81c0-bf222e530a50",
   "metadata": {},
   "source": [
    "## Date Received"
   ]
  },
  {
   "cell_type": "code",
   "execution_count": null,
   "id": "3bafc7a2-42f4-4e24-9172-40fa30ac91eb",
   "metadata": {},
   "outputs": [],
   "source": [
    "df"
   ]
  },
  {
   "cell_type": "markdown",
   "id": "e2e198a7-2327-45c4-af60-2c26d448c355",
   "metadata": {},
   "source": [
    "## 2. Given an unsorted array of integers, find the length of the longest continuous increasing subsequence (subarray)."
   ]
  },
  {
   "cell_type": "markdown",
   "id": "035ef4c8-7c60-4620-899b-f5febdf2c44a",
   "metadata": {},
   "source": [
    "## Example 1:\n",
    "## Input: [1,3,5,4,7]\n",
    "## Output: 3 \n",
    "## Example 2:\n",
    "## Input: [2,2,2,2,2]\n",
    "## Output: 1"
   ]
  },
  {
   "cell_type": "code",
   "execution_count": 8,
   "id": "a6a679cf-bbf5-4dfe-b64b-6cf942344aab",
   "metadata": {},
   "outputs": [
    {
     "name": "stdout",
     "output_type": "stream",
     "text": [
      "3\n",
      "1\n"
     ]
    }
   ],
   "source": [
    "def longSub(arr):\n",
    "    if not arr:\n",
    "        return 0\n",
    "    \n",
    "    max_length = 1\n",
    "    current_length = 1\n",
    "    \n",
    "    for i in range(1, len(arr)):\n",
    "        if arr[i] > arr[i - 1]:\n",
    "            current_length += 1\n",
    "            max_length = max(max_length, current_length)\n",
    "        else:\n",
    "            current_length = 1\n",
    "    \n",
    "    return max_length\n",
    "\n",
    "print(longSub([1, 3, 5, 4, 7]))\n",
    "print(longSub([2, 2, 2, 2]))"
   ]
  },
  {
   "cell_type": "markdown",
   "id": "ba90e10a-9b99-467b-a452-cb4aa0db1955",
   "metadata": {},
   "source": [
    "## 3. Given a list of non negative integers, arrange them such that they form the largest number."
   ]
  },
  {
   "cell_type": "markdown",
   "id": "e699f9cb-a9f6-4ccf-a6aa-4a4a2f1c5c33",
   "metadata": {},
   "source": [
    "## Example 1:\n",
    "## Input: [10,2]\n",
    "## Output: \"210\""
   ]
  },
  {
   "cell_type": "markdown",
   "id": "cf1e6cf0-f94d-452a-ade8-6dacdfb84cbc",
   "metadata": {},
   "source": [
    "## Example 2:\n",
    "## Input: [3,30,34,5,9]\n",
    "## Output: \"9534330\""
   ]
  },
  {
   "cell_type": "code",
   "execution_count": 29,
   "id": "5be4190f-bf65-4dbe-8ffe-19f7cceeefb2",
   "metadata": {},
   "outputs": [
    {
     "name": "stdout",
     "output_type": "stream",
     "text": [
      "210\n",
      "9534330\n"
     ]
    }
   ],
   "source": [
    "from itertools import permutations\n",
    "def largestNumber(arr):\n",
    "    perm = permutations(arr)\n",
    "    concatenated_numbers = []\n",
    "    for i in list(perm):\n",
    "        concatenated_num = ''.join(map(str, i))\n",
    "        concatenated_numbers.append(concatenated_num)\n",
    "    return max(concatenated_numbers)\n",
    "\n",
    "print(largestNumber([10, 2]))\n",
    "print(largestNumber([3, 30, 34, 5, 9]))"
   ]
  },
  {
   "cell_type": "markdown",
   "id": "26e01271-9293-4fc0-97a8-5ccba738cdc9",
   "metadata": {},
   "source": [
    "## 4. Store all the \"servlet-name\", and \"servlet-class\" to a csv file from the attached sample_json.json file using Python."
   ]
  },
  {
   "cell_type": "code",
   "execution_count": 52,
   "id": "1596269a-9e17-4832-93ce-86901049ffc4",
   "metadata": {},
   "outputs": [],
   "source": [
    "json = pd.read_json('DT A1 sample_json (1) (1).json')"
   ]
  },
  {
   "cell_type": "code",
   "execution_count": 34,
   "id": "7a967fad-19bc-4d6e-9fd0-cdba415be31f",
   "metadata": {},
   "outputs": [
    {
     "data": {
      "text/html": [
       "<div>\n",
       "<style scoped>\n",
       "    .dataframe tbody tr th:only-of-type {\n",
       "        vertical-align: middle;\n",
       "    }\n",
       "\n",
       "    .dataframe tbody tr th {\n",
       "        vertical-align: top;\n",
       "    }\n",
       "\n",
       "    .dataframe thead th {\n",
       "        text-align: right;\n",
       "    }\n",
       "</style>\n",
       "<table border=\"1\" class=\"dataframe\">\n",
       "  <thead>\n",
       "    <tr style=\"text-align: right;\">\n",
       "      <th></th>\n",
       "      <th>web-app</th>\n",
       "    </tr>\n",
       "  </thead>\n",
       "  <tbody>\n",
       "    <tr>\n",
       "      <th>servlet</th>\n",
       "      <td>[{'servlet-name': 'cofaxCDS', 'servlet-class':...</td>\n",
       "    </tr>\n",
       "    <tr>\n",
       "      <th>servlet-mapping</th>\n",
       "      <td>{'cofaxCDS': '/', 'cofaxEmail': '/cofaxutil/ae...</td>\n",
       "    </tr>\n",
       "    <tr>\n",
       "      <th>taglib</th>\n",
       "      <td>{'taglib-uri': 'cofax.tld', 'taglib-location':...</td>\n",
       "    </tr>\n",
       "  </tbody>\n",
       "</table>\n",
       "</div>"
      ],
      "text/plain": [
       "                                                           web-app\n",
       "servlet          [{'servlet-name': 'cofaxCDS', 'servlet-class':...\n",
       "servlet-mapping  {'cofaxCDS': '/', 'cofaxEmail': '/cofaxutil/ae...\n",
       "taglib           {'taglib-uri': 'cofax.tld', 'taglib-location':..."
      ]
     },
     "execution_count": 34,
     "metadata": {},
     "output_type": "execute_result"
    }
   ],
   "source": [
    "json"
   ]
  },
  {
   "cell_type": "code",
   "execution_count": 56,
   "id": "ac68781a-80fd-40f2-9a97-774c1ae61591",
   "metadata": {},
   "outputs": [],
   "source": [
    "servlet_data = [(servlet['servlet-name'], servlet['servlet-class']) for servlet in json['web-app']['servlet']]\n",
    "servlet_df = pd.DataFrame(servlet_data, columns=['servlet-name', 'servlet-class'])"
   ]
  },
  {
   "cell_type": "code",
   "execution_count": 57,
   "id": "e980771a-a6dc-46aa-ad57-bcc98e0325ea",
   "metadata": {},
   "outputs": [
    {
     "data": {
      "text/html": [
       "<div>\n",
       "<style scoped>\n",
       "    .dataframe tbody tr th:only-of-type {\n",
       "        vertical-align: middle;\n",
       "    }\n",
       "\n",
       "    .dataframe tbody tr th {\n",
       "        vertical-align: top;\n",
       "    }\n",
       "\n",
       "    .dataframe thead th {\n",
       "        text-align: right;\n",
       "    }\n",
       "</style>\n",
       "<table border=\"1\" class=\"dataframe\">\n",
       "  <thead>\n",
       "    <tr style=\"text-align: right;\">\n",
       "      <th></th>\n",
       "      <th>servlet-name</th>\n",
       "      <th>servlet-class</th>\n",
       "    </tr>\n",
       "  </thead>\n",
       "  <tbody>\n",
       "    <tr>\n",
       "      <th>0</th>\n",
       "      <td>cofaxCDS</td>\n",
       "      <td>org.cofax.cds.CDSServlet</td>\n",
       "    </tr>\n",
       "    <tr>\n",
       "      <th>1</th>\n",
       "      <td>cofaxEmail</td>\n",
       "      <td>org.cofax.cds.EmailServlet</td>\n",
       "    </tr>\n",
       "    <tr>\n",
       "      <th>2</th>\n",
       "      <td>cofaxAdmin</td>\n",
       "      <td>org.cofax.cds.AdminServlet</td>\n",
       "    </tr>\n",
       "    <tr>\n",
       "      <th>3</th>\n",
       "      <td>fileServlet</td>\n",
       "      <td>org.cofax.cds.FileServlet</td>\n",
       "    </tr>\n",
       "    <tr>\n",
       "      <th>4</th>\n",
       "      <td>cofaxTools</td>\n",
       "      <td>org.cofax.cms.CofaxToolsServlet</td>\n",
       "    </tr>\n",
       "  </tbody>\n",
       "</table>\n",
       "</div>"
      ],
      "text/plain": [
       "  servlet-name                    servlet-class\n",
       "0     cofaxCDS         org.cofax.cds.CDSServlet\n",
       "1   cofaxEmail       org.cofax.cds.EmailServlet\n",
       "2   cofaxAdmin       org.cofax.cds.AdminServlet\n",
       "3  fileServlet        org.cofax.cds.FileServlet\n",
       "4   cofaxTools  org.cofax.cms.CofaxToolsServlet"
      ]
     },
     "execution_count": 57,
     "metadata": {},
     "output_type": "execute_result"
    }
   ],
   "source": [
    "servlet_df"
   ]
  },
  {
   "cell_type": "code",
   "execution_count": 55,
   "id": "a318f86b-6e59-47b8-af27-3e8b72bb4fbb",
   "metadata": {},
   "outputs": [],
   "source": [
    "servlet_df.to_csv(\"servlet.csv\")"
   ]
  },
  {
   "cell_type": "code",
   "execution_count": null,
   "id": "6e21297b-3f40-4c43-acd5-59d5a272190a",
   "metadata": {},
   "outputs": [],
   "source": []
  }
 ],
 "metadata": {
  "kernelspec": {
   "display_name": "Python 3 (ipykernel)",
   "language": "python",
   "name": "python3"
  },
  "language_info": {
   "codemirror_mode": {
    "name": "ipython",
    "version": 3
   },
   "file_extension": ".py",
   "mimetype": "text/x-python",
   "name": "python",
   "nbconvert_exporter": "python",
   "pygments_lexer": "ipython3",
   "version": "3.11.5"
  }
 },
 "nbformat": 4,
 "nbformat_minor": 5
}
